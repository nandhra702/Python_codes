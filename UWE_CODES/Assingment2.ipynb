{
 "cells": [
  {
   "cell_type": "markdown",
   "metadata": {},
   "source": [
    "THIS IS ASSIGNMENT 2 OF THE UWE INTRO TO DATA ANALYTICS"
   ]
  },
  {
   "cell_type": "code",
   "execution_count": 4,
   "metadata": {},
   "outputs": [
    {
     "name": "stdout",
     "output_type": "stream",
     "text": [
      "STATUS : Normal\n"
     ]
    }
   ],
   "source": [
    "#Q1:\n",
    "import math\n",
    "weight = float(input(\"Enter weight in KGs : \"))\n",
    "height = float(input(\"Enter your height in meters : \"))\n",
    "\n",
    "BMI = weight/pow(height,2)\n",
    "\n",
    "if(BMI<18.5):\n",
    "    print(\"STATUS : Underweight\")\n",
    "elif(BMI >= 18.5 and BMI<=24.9):\n",
    "    print(\"STATUS : Normal\")\n",
    "elif(BMI >= 25 and BMI <= 29.9):\n",
    "    print(\"STATUS : Overweight\")\n",
    "elif(BMI>=30):\n",
    "    print(\"STATUS : Obese\")\n"
   ]
  },
  {
   "cell_type": "code",
   "execution_count": 6,
   "metadata": {},
   "outputs": [
    {
     "name": "stdout",
     "output_type": "stream",
     "text": [
      "You got an A-\n",
      "That's an A + !\n",
      "Sorry, you need an A- to qualify !\n"
     ]
    }
   ],
   "source": [
    "#Q2 \n",
    "for i in range(1,3):\n",
    "    grade = float (input(\"What\\'s the grade percentage ?\"))\n",
    "\n",
    "    if (grade >= 90):\n",
    "        print (\"That's an A + !\")\n",
    "    if (80 <= grade < 90):\n",
    "        print (\"An A is really good !\")\n",
    "    elif (60< grade < 80):\n",
    "        print (\"You got an A-\")\n",
    "    else:\n",
    "        print (\"Sorry, you need an A- to qualify !\")"
   ]
  },
  {
   "cell_type": "code",
   "execution_count": null,
   "metadata": {},
   "outputs": [
    {
     "name": "stdout",
     "output_type": "stream",
     "text": [
      "factorial of 4 is 24\n"
     ]
    }
   ],
   "source": [
    "#Q3\n",
    "\"\"\"\n",
    "number = int(input(\"Enter number\"))\n",
    "n, result = number, 1\n",
    "while True or n :\n",
    " result = result*n\n",
    " n = n-1\n",
    "factorial = result\n",
    "print(\"factorial of\", number, \"is\", factorial)\"\"\"\n",
    "\n",
    "# THIS WILL RESULT IN AN INFINITE WHILE LOOP\n",
    "number = int(input(\"Enter number\"))\n",
    "n, result = number, 1\n",
    "while  n :\n",
    " result = result*n\n",
    " n = n-1\n",
    "factorial = result\n",
    "print(\"factorial of\", number, \"is\", factorial) \n",
    "\n",
    "#TO SIMPLY FIX, WE WILL HAVE TO REMOVE TRUE FROM WHILE LOOP CONDITION. Because of that true condition, it ran into an infinite while loop"
   ]
  },
  {
   "cell_type": "code",
   "execution_count": null,
   "metadata": {},
   "outputs": [],
   "source": [
    "#Q4 \n",
    "\"\"\"\n",
    "n = 10\n",
    "answer = 1\n",
    "while (n > 0):\n",
    " answer = answer + n ** 2\n",
    " n = n + 1\n",
    "print (answer)\n",
    "\"\"\"\n",
    "#In this program, there is an infinite while loop because we are keeping the condition n>0, and then we are increasing the value of n\n",
    "# We are not reducing the value of the variable n. Hence the while loop never stops\n",
    "#So as a solution, we just need to change n = n-1"
   ]
  },
  {
   "cell_type": "code",
   "execution_count": 11,
   "metadata": {},
   "outputs": [
    {
     "name": "stdout",
     "output_type": "stream",
     "text": [
      "The lowest number is :  0  And the 2nd lowest number is  2\n"
     ]
    }
   ],
   "source": [
    "#Q5 : Write a program to find the lowest and second lowest number from the 10 numbers input.\n",
    "\n",
    "#first we will take 10 inputs\n",
    "my_list = list([])\n",
    "for i in range(10):\n",
    "    var = int(input(\"Enter a number : \"))\n",
    "    my_list.append(var)\n",
    "\n",
    "my_list.sort()\n",
    "print(\"The lowest number is : \",my_list[0],\" And the 2nd lowest number is \",my_list[1])\n"
   ]
  },
  {
   "cell_type": "code",
   "execution_count": null,
   "metadata": {},
   "outputs": [
    {
     "name": "stdout",
     "output_type": "stream",
     "text": [
      "Simple Calculator\n",
      "------------------\n",
      "Choose an operation:\n",
      "1. Addition (+)\n",
      "2. Subtraction (-)\n",
      "3. Multiplication (*)\n",
      "4. Division (/)\n",
      "5. Exit\n",
      "The result is: 20.0\n",
      "The result is: 15.0\n",
      "Exiting the calculator. Goodbye!\n"
     ]
    }
   ],
   "source": [
    "#Q6 :\n",
    "def calculator():\n",
    "    print(\"Simple Calculator\")\n",
    "    print(\"------------------\")\n",
    "    print(\"Choose an operation:\")\n",
    "    print(\"1. Addition (+)\")\n",
    "    print(\"2. Subtraction (-)\")\n",
    "    print(\"3. Multiplication (*)\")\n",
    "    print(\"4. Division (/)\")\n",
    "    print(\"5. Exit\")\n",
    "    \n",
    "    while True:\n",
    "            choice = int(input(\"Enter your choice (1-5): \"))\n",
    "            if choice == 5:\n",
    "                print(\"Exiting!\")\n",
    "                break\n",
    "            elif choice in [1, 2, 3, 4]:\n",
    "                num1 = float(input(\"Enter the first number: \"))\n",
    "                num2 = float(input(\"Enter the second number: \"))\n",
    "                \n",
    "                if choice == 1:\n",
    "                    print(f\"The result is: {num1 + num2}\")\n",
    "                elif choice == 2:\n",
    "                    print(f\"The result is: {num1 - num2}\")\n",
    "                elif choice == 3:\n",
    "                    print(f\"The result is: {num1 * num2}\")\n",
    "                elif choice == 4:\n",
    "                    if num2 != 0:\n",
    "                        print(f\"The result is: {num1 / num2}\")\n",
    "                    else:\n",
    "                        print(\"Error: Division by zero is not allowed.\")\n",
    "            else:\n",
    "                print(\"Invalid choice. Please choose between 1 and 5.\")\n",
    "        \n",
    "\n",
    "calculator()\n"
   ]
  }
 ],
 "metadata": {
  "kernelspec": {
   "display_name": "Python 3",
   "language": "python",
   "name": "python3"
  },
  "language_info": {
   "codemirror_mode": {
    "name": "ipython",
    "version": 3
   },
   "file_extension": ".py",
   "mimetype": "text/x-python",
   "name": "python",
   "nbconvert_exporter": "python",
   "pygments_lexer": "ipython3",
   "version": "3.11.4"
  }
 },
 "nbformat": 4,
 "nbformat_minor": 2
}
